{
 "cells": [
  {
   "cell_type": "markdown",
   "metadata": {},
   "source": [
    "# Operadores relacionales"
   ]
  },
  {
   "cell_type": "markdown",
   "metadata": {},
   "source": [
    "Permiten evaluar una condición y devuelven un ***True*** o ***False***.\n",
    "\n",
    "Los operadores relacionales son:\n",
    "- Mayor (**>**), Mayor o igual (>=)\n",
    "- Menor (**<**), Menor o igual (<=)\n",
    "- Igual (**==**)\n",
    "- Diferente (**!=**)"
   ]
  },
  {
   "cell_type": "code",
   "execution_count": 1,
   "metadata": {},
   "outputs": [
    {
     "name": "stdout",
     "output_type": "stream",
     "text": [
      "True\n",
      "False\n",
      "True\n",
      "True\n"
     ]
    }
   ],
   "source": [
    "var1 = 12 > 10\n",
    "var2 = 18 < 1\n",
    "var3 = 12 == 12\n",
    "var4 = 12 != 10\n",
    "\n",
    "print(var1)\n",
    "print(var2)\n",
    "print(var3)\n",
    "print(var4)"
   ]
  }
 ],
 "metadata": {
  "kernelspec": {
   "display_name": "Python 3.10.0 64-bit",
   "language": "python",
   "name": "python3"
  },
  "language_info": {
   "codemirror_mode": {
    "name": "ipython",
    "version": 3
   },
   "file_extension": ".py",
   "mimetype": "text/x-python",
   "name": "python",
   "nbconvert_exporter": "python",
   "pygments_lexer": "ipython3",
   "version": "3.10.0"
  },
  "orig_nbformat": 4,
  "vscode": {
   "interpreter": {
    "hash": "f2a814374ba77ee29c991541703a6aab00bfadd5630c98bebefd444efc052aa1"
   }
  }
 },
 "nbformat": 4,
 "nbformat_minor": 2
}
