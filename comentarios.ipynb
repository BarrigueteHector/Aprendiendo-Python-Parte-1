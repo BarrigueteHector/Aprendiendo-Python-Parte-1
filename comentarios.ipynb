{
 "cells": [
  {
   "cell_type": "markdown",
   "metadata": {},
   "source": [
    "# Comentarios"
   ]
  },
  {
   "cell_type": "markdown",
   "metadata": {},
   "source": [
    "Los comentarios se pueden escribir de dos formas:"
   ]
  },
  {
   "cell_type": "markdown",
   "metadata": {},
   "source": [
    "Comentarios con **#**: lo usamos cuando se vaya a comentar una sola linea."
   ]
  },
  {
   "cell_type": "markdown",
   "metadata": {},
   "source": [
    "En el siguiente ejemplo tenemos ***variable1*** con el valor de ***Hello***, después una linea de comentario (que no se mostrará en la ejecución), posteriormente se imprime ***variable1*** y al último se comentó la impresión de ***World*** (tampoco se mostrará en la ejecución). "
   ]
  },
  {
   "cell_type": "code",
   "execution_count": 1,
   "metadata": {},
   "outputs": [
    {
     "name": "stdout",
     "output_type": "stream",
     "text": [
      "Hello\n"
     ]
    }
   ],
   "source": [
    "variable1 = \"Hello\"\n",
    "# Esto es un comentario\n",
    "print(variable1)\n",
    "#print(\"World\")"
   ]
  },
  {
   "cell_type": "markdown",
   "metadata": {},
   "source": [
    "Comentarios con comilla simple( ***'*** ) o comilla doble ( ***\"*** ): las usaremos cuando sean varias lineas las que se vayan a comentar."
   ]
  },
  {
   "cell_type": "markdown",
   "metadata": {},
   "source": [
    "En el siguiente cuadro tenemos ***number1*** que vale 24 y ***number2*** que vale 12, luego un comentario de varías lineas utilizando comillas simples, después otras lineas comentadas con comilla doble (la última es la impresión de ***number2***, que no se va a imprimir), y por último la impresión de ***number1***."
   ]
  },
  {
   "cell_type": "code",
   "execution_count": 1,
   "metadata": {},
   "outputs": [
    {
     "name": "stdout",
     "output_type": "stream",
     "text": [
      "24\n"
     ]
    }
   ],
   "source": [
    "number1 = 24\n",
    "number2 = 12\n",
    "\n",
    "'''\n",
    "Comentario de\n",
    "varias lineas\n",
    "usando triple\n",
    "comilla simple\n",
    "'''\n",
    "\n",
    "\"\"\"\n",
    "Comentario de\n",
    "varias lineas\n",
    "usando triple\n",
    "comilla doble\n",
    "print(number2)\n",
    "\"\"\"\n",
    "\n",
    "print(number1)"
   ]
  }
 ],
 "metadata": {
  "kernelspec": {
   "display_name": "Python 3.10.0 64-bit",
   "language": "python",
   "name": "python3"
  },
  "language_info": {
   "codemirror_mode": {
    "name": "ipython",
    "version": 3
   },
   "file_extension": ".py",
   "mimetype": "text/x-python",
   "name": "python",
   "nbconvert_exporter": "python",
   "pygments_lexer": "ipython3",
   "version": "3.10.0"
  },
  "orig_nbformat": 4,
  "vscode": {
   "interpreter": {
    "hash": "f2a814374ba77ee29c991541703a6aab00bfadd5630c98bebefd444efc052aa1"
   }
  }
 },
 "nbformat": 4,
 "nbformat_minor": 2
}
