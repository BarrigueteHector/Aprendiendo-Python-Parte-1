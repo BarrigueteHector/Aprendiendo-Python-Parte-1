{
 "cells": [
  {
   "cell_type": "markdown",
   "metadata": {},
   "source": [
    "# Operadores lógicos"
   ]
  },
  {
   "cell_type": "markdown",
   "metadata": {},
   "source": [
    "Los operadores lógicos nos ayudan a determinar que una o más condiciones sean verdaderas o falsas. Dichos operadores son ***AND***, ***OR*** y ***NOT***."
   ]
  },
  {
   "cell_type": "markdown",
   "metadata": {},
   "source": [
    "***AND***: Todas las condiciones deben ser verdaderas para que el resultado sea verdadero (**True**), en caso contrario el resultado es ***False***"
   ]
  },
  {
   "cell_type": "code",
   "execution_count": 3,
   "metadata": {},
   "outputs": [
    {
     "name": "stdout",
     "output_type": "stream",
     "text": [
      "True\n",
      "False\n",
      "False\n",
      "False\n"
     ]
    }
   ],
   "source": [
    "var1 = True and True\n",
    "var2 = True and False\n",
    "var3 = False and True\n",
    "var4 = False and False\n",
    "\n",
    "print(var1)\n",
    "print(var2)\n",
    "print(var3)\n",
    "print(var4)"
   ]
  },
  {
   "cell_type": "markdown",
   "metadata": {},
   "source": [
    "***OR***: Basta con que una condición sea verdadera para que el resultado sea verdadero (**True**); en caso de que ninguna condición se verdadera, el resultado es ***False***."
   ]
  },
  {
   "cell_type": "code",
   "execution_count": 5,
   "metadata": {},
   "outputs": [
    {
     "name": "stdout",
     "output_type": "stream",
     "text": [
      "True\n",
      "True\n",
      "True\n",
      "False\n"
     ]
    }
   ],
   "source": [
    "var1 = True or True\n",
    "var2 = True or False\n",
    "var3 = False or True\n",
    "var4 = False or False\n",
    "\n",
    "print(var1)\n",
    "print(var2)\n",
    "print(var3)\n",
    "print(var4)"
   ]
  },
  {
   "cell_type": "markdown",
   "metadata": {},
   "source": [
    "***NOT***: Niega el resultado. \n",
    "\n",
    "Si el resultado es ***True***, lo hace ***False***.\n",
    "\n",
    "Si el resultado es ***False***, lo hace ***True***."
   ]
  },
  {
   "cell_type": "code",
   "execution_count": 1,
   "metadata": {},
   "outputs": [
    {
     "name": "stdout",
     "output_type": "stream",
     "text": [
      "False\n",
      "True\n",
      "True\n",
      "False\n"
     ]
    }
   ],
   "source": [
    "var1 = not True\n",
    "var2 = not False\n",
    "var3 = not (True and False)\n",
    "var4 = not (False or True)\n",
    "\n",
    "print(var1)\n",
    "print(var2)\n",
    "print(var3)\n",
    "print(var4)"
   ]
  },
  {
   "cell_type": "markdown",
   "metadata": {},
   "source": [
    "Podemos mezclar los tres operadores:"
   ]
  },
  {
   "cell_type": "code",
   "execution_count": 2,
   "metadata": {},
   "outputs": [
    {
     "name": "stdout",
     "output_type": "stream",
     "text": [
      "True\n",
      "True\n"
     ]
    }
   ],
   "source": [
    "var1 = True and False or not False\n",
    "print(var1)\n",
    "\n",
    "var2 = True and True and not False or False and True\n",
    "print(var2)"
   ]
  },
  {
   "cell_type": "markdown",
   "metadata": {},
   "source": [
    "Es posible juntar los operadores lógicos con los relacionales:"
   ]
  },
  {
   "cell_type": "code",
   "execution_count": 1,
   "metadata": {},
   "outputs": [
    {
     "name": "stdout",
     "output_type": "stream",
     "text": [
      "True\n",
      "True\n"
     ]
    }
   ],
   "source": [
    "var1 = True and True and 12 > 10\n",
    "print(var1)\n",
    "\n",
    "var2 = False or True and 99 < 100\n",
    "print(var2)"
   ]
  }
 ],
 "metadata": {
  "kernelspec": {
   "display_name": "Python 3.10.0 64-bit",
   "language": "python",
   "name": "python3"
  },
  "language_info": {
   "codemirror_mode": {
    "name": "ipython",
    "version": 3
   },
   "file_extension": ".py",
   "mimetype": "text/x-python",
   "name": "python",
   "nbconvert_exporter": "python",
   "pygments_lexer": "ipython3",
   "version": "3.10.0"
  },
  "orig_nbformat": 4,
  "vscode": {
   "interpreter": {
    "hash": "f2a814374ba77ee29c991541703a6aab00bfadd5630c98bebefd444efc052aa1"
   }
  }
 },
 "nbformat": 4,
 "nbformat_minor": 2
}
