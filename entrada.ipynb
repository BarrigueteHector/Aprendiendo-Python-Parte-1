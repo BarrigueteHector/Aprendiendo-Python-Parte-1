{
 "cells": [
  {
   "cell_type": "markdown",
   "metadata": {},
   "source": [
    "# Entrada de datos"
   ]
  },
  {
   "cell_type": "markdown",
   "metadata": {},
   "source": [
    "Para ingresar datos usamos la instrucción ***input***."
   ]
  },
  {
   "cell_type": "code",
   "execution_count": 1,
   "metadata": {},
   "outputs": [
    {
     "name": "stdout",
     "output_type": "stream",
     "text": [
      "Hola Hector Alejandro\n"
     ]
    }
   ],
   "source": [
    "nombre_completo = input('Ingresa tu nombre completo: ')\n",
    "print ('Hola', nombre_completo)"
   ]
  },
  {
   "cell_type": "markdown",
   "metadata": {},
   "source": [
    "Siempre que se use ***input*** el tipo de dato que devuelve es un str."
   ]
  },
  {
   "cell_type": "code",
   "execution_count": 2,
   "metadata": {},
   "outputs": [
    {
     "name": "stdout",
     "output_type": "stream",
     "text": [
      "<class 'str'>\n"
     ]
    }
   ],
   "source": [
    "edad = input('Ingresa tu edad: ')\n",
    "print(type(edad))"
   ]
  },
  {
   "cell_type": "markdown",
   "metadata": {},
   "source": [
    "Debemos castear para convertir un tipo de datos ***str*** a otro."
   ]
  },
  {
   "cell_type": "code",
   "execution_count": 3,
   "metadata": {},
   "outputs": [
    {
     "name": "stdout",
     "output_type": "stream",
     "text": [
      "<class 'int'>\n",
      "21\n",
      "<class 'float'>\n",
      "1.65\n",
      "<class 'bool'>\n",
      "False\n"
     ]
    }
   ],
   "source": [
    "# str -> int\n",
    "edad = int(input('Ingresa tu edad: '))\n",
    "print(type(edad))\n",
    "print(edad)\n",
    "\n",
    "# str -> float\n",
    "altura = float(input('Ingresa tu altura: '))\n",
    "print(type(altura))\n",
    "print(altura)\n",
    "\n",
    "# str -> bool\n",
    "auto = input('¿Tienes auto? (si/no): ') == 'si'\n",
    "print(type(auto))\n",
    "print(auto)"
   ]
  }
 ],
 "metadata": {
  "kernelspec": {
   "display_name": "Python 3.10.0 64-bit",
   "language": "python",
   "name": "python3"
  },
  "language_info": {
   "codemirror_mode": {
    "name": "ipython",
    "version": 3
   },
   "file_extension": ".py",
   "mimetype": "text/x-python",
   "name": "python",
   "nbconvert_exporter": "python",
   "pygments_lexer": "ipython3",
   "version": "3.10.0"
  },
  "orig_nbformat": 4,
  "vscode": {
   "interpreter": {
    "hash": "f2a814374ba77ee29c991541703a6aab00bfadd5630c98bebefd444efc052aa1"
   }
  }
 },
 "nbformat": 4,
 "nbformat_minor": 2
}
