{
 "cells": [
  {
   "cell_type": "markdown",
   "metadata": {},
   "source": [
    "# Variables y constantes"
   ]
  },
  {
   "cell_type": "markdown",
   "metadata": {},
   "source": [
    "### Variables"
   ]
  },
  {
   "cell_type": "markdown",
   "metadata": {},
   "source": [
    "En Python no es necesario indicar el tipo de dato de las variables, basta con asignarle un valor."
   ]
  },
  {
   "cell_type": "code",
   "execution_count": 1,
   "metadata": {},
   "outputs": [
    {
     "name": "stdout",
     "output_type": "stream",
     "text": [
      "10\n",
      "Hola\n",
      "True\n",
      "3.14\n"
     ]
    }
   ],
   "source": [
    "variable1 = 10 # Esto es un int (entero)\n",
    "variable2 = 'Hola' # Esto es un str (string)\n",
    "variable3 = True # Esto es un bool (booleano)\n",
    "variable4 = 3.14 # Esto es un float (flotante)\n",
    "\n",
    "# Imprimimos las variables\n",
    "print(variable1)\n",
    "print(variable2)\n",
    "print(variable3)\n",
    "print(variable4)"
   ]
  },
  {
   "cell_type": "markdown",
   "metadata": {},
   "source": [
    "Existe el **tipado**, que es la capacidad de las variables de almacenar diferentes tipos de datos en diferentes momentos del código."
   ]
  },
  {
   "cell_type": "code",
   "execution_count": 2,
   "metadata": {},
   "outputs": [
    {
     "name": "stdout",
     "output_type": "stream",
     "text": [
      "Esto es un string\n",
      "10\n",
      "123.456\n"
     ]
    }
   ],
   "source": [
    "variable1 = 'Esto es un string'\n",
    "print(variable1)\n",
    "\n",
    "variable1 = 10\n",
    "print(variable1)\n",
    "\n",
    "variable1 = 123.456\n",
    "print(variable1)"
   ]
  },
  {
   "cell_type": "markdown",
   "metadata": {},
   "source": [
    "**variable1** toma 3 distintos valores en el cuadro anterior. Primero es un **string**, después un **int** y al último un **float**. Se imprimen los tres valores y no hay error alguno.\n",
    "\n",
    "*Como buena práctica, una variable debe de respetar el tipo de dato que guardó desde que se creó.*\n",
    "\n",
    "Para saber el tipo de dato al que corresponde algún objeto utilizamos ***type***."
   ]
  },
  {
   "cell_type": "code",
   "execution_count": 2,
   "metadata": {},
   "outputs": [
    {
     "name": "stdout",
     "output_type": "stream",
     "text": [
      "<class 'int'>\n",
      "<class 'str'>\n",
      "<class 'bool'>\n",
      "<class 'float'>\n"
     ]
    }
   ],
   "source": [
    "variable1 = 10 \n",
    "print(type(variable1))\n",
    "variable2 = 'Hola' \n",
    "print(type(variable2))\n",
    "variable3 = True \n",
    "print(type(variable3))\n",
    "variable4 = 3.14 \n",
    "print(type(variable4))"
   ]
  },
  {
   "cell_type": "markdown",
   "metadata": {},
   "source": [
    "### Constantes"
   ]
  },
  {
   "cell_type": "markdown",
   "metadata": {},
   "source": [
    "Las constantes y las variables son lo mismo, la diferencia entre ambas es la forma de declarar y su uso.\n",
    "\n",
    "Para declarar una constante el nombre debe estár en mayúsculas:"
   ]
  },
  {
   "cell_type": "code",
   "execution_count": 1,
   "metadata": {},
   "outputs": [
    {
     "name": "stdout",
     "output_type": "stream",
     "text": [
      "3.14\n"
     ]
    }
   ],
   "source": [
    "PI = 3.14\n",
    "print(PI)"
   ]
  },
  {
   "cell_type": "markdown",
   "metadata": {},
   "source": [
    "Claro que es posible cambiar su valor, pero al estár el nombre en mayúsculas tanto nosotros, como otros programadores, sabemos que es una constante y su valor no debe cambiarse."
   ]
  },
  {
   "cell_type": "markdown",
   "metadata": {},
   "source": [
    "### Extra"
   ]
  },
  {
   "cell_type": "markdown",
   "metadata": {},
   "source": [
    "Si tenemos varias asignaciones seguidas: "
   ]
  },
  {
   "cell_type": "code",
   "execution_count": 1,
   "metadata": {},
   "outputs": [
    {
     "name": "stdout",
     "output_type": "stream",
     "text": [
      "Bar\n",
      "Hotel\n",
      "Waldorf\n"
     ]
    }
   ],
   "source": [
    "nombre = 'Bar'\n",
    "apellidoP = 'Hotel'\n",
    "apellidoM = 'Waldorf'\n",
    "\n",
    "print(nombre)\n",
    "print(apellidoP)\n",
    "print(apellidoM)"
   ]
  },
  {
   "cell_type": "markdown",
   "metadata": {},
   "source": [
    "Podemos ahorrar lineas de la siguiente forma:"
   ]
  },
  {
   "cell_type": "code",
   "execution_count": 2,
   "metadata": {},
   "outputs": [
    {
     "name": "stdout",
     "output_type": "stream",
     "text": [
      "Hotel\n",
      "Bar\n",
      "Waldorf\n"
     ]
    }
   ],
   "source": [
    "nombre, apellidoP, apellidoM = 'Bar', 'Hotel', 'Waldorf'\n",
    "\n",
    "print(nombre)\n",
    "print(apellidoP)\n",
    "print(apellidoM)"
   ]
  }
 ],
 "metadata": {
  "kernelspec": {
   "display_name": "Python 3.10.0 64-bit",
   "language": "python",
   "name": "python3"
  },
  "language_info": {
   "codemirror_mode": {
    "name": "ipython",
    "version": 3
   },
   "file_extension": ".py",
   "mimetype": "text/x-python",
   "name": "python",
   "nbconvert_exporter": "python",
   "pygments_lexer": "ipython3",
   "version": "3.10.0"
  },
  "orig_nbformat": 4,
  "vscode": {
   "interpreter": {
    "hash": "f2a814374ba77ee29c991541703a6aab00bfadd5630c98bebefd444efc052aa1"
   }
  }
 },
 "nbformat": 4,
 "nbformat_minor": 2
}
